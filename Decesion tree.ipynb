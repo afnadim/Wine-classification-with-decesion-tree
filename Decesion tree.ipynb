{
 "cells": [
  {
   "cell_type": "code",
   "execution_count": 13,
   "metadata": {},
   "outputs": [],
   "source": [
    "# For Python 2 / 3 compatability\n",
    "#Author : S M ABDULLAH FERDOUS\n",
    "from __future__ import print_function\n",
    "import pandas as pd\n",
    "from pandas import DataFrame\n",
    "import numpy as np\n",
    "import pandas as pd\n",
    "\n",
    "import matplotlib.pyplot as plt\n",
    "import seaborn as sns\n",
    "%matplotlib inline\n",
    "\n",
    "import random\n",
    "from pprint import pprint"
   ]
  },
  {
   "cell_type": "code",
   "execution_count": 17,
   "metadata": {},
   "outputs": [],
   "source": [
    "df = pd.read_csv('wine.data',header=None)\n",
    "#df = pd.read_table('wine.names')\n",
    "df.head()\n",
    "\n",
    "#the coulmn names looks too lengthy.we can make the small and simple\n",
    "df.columns = ['label','Alcohol ','Malic acid','Ash',\n",
    "              'Alcalinity of ash ','Magnesium ','Total phenols ',\n",
    "              'Flavanoids ','Nonflavanoid phenols','Proanthocyanins',\n",
    "              'Color intensity ','Hue','OD280/OD315 of diluted wine','Proline']"
   ]
  },
  {
   "cell_type": "code",
   "execution_count": 18,
   "metadata": {},
   "outputs": [
    {
     "data": {
      "text/html": [
       "<div>\n",
       "<style scoped>\n",
       "    .dataframe tbody tr th:only-of-type {\n",
       "        vertical-align: middle;\n",
       "    }\n",
       "\n",
       "    .dataframe tbody tr th {\n",
       "        vertical-align: top;\n",
       "    }\n",
       "\n",
       "    .dataframe thead th {\n",
       "        text-align: right;\n",
       "    }\n",
       "</style>\n",
       "<table border=\"1\" class=\"dataframe\">\n",
       "  <thead>\n",
       "    <tr style=\"text-align: right;\">\n",
       "      <th></th>\n",
       "      <th>Proline</th>\n",
       "      <th>Alcohol</th>\n",
       "      <th>Malic acid</th>\n",
       "      <th>Ash</th>\n",
       "      <th>Alcalinity of ash</th>\n",
       "      <th>Magnesium</th>\n",
       "      <th>Total phenols</th>\n",
       "      <th>Flavanoids</th>\n",
       "      <th>Nonflavanoid phenols</th>\n",
       "      <th>Proanthocyanins</th>\n",
       "      <th>Color intensity</th>\n",
       "      <th>Hue</th>\n",
       "      <th>OD280/OD315 of diluted wine</th>\n",
       "      <th>label</th>\n",
       "    </tr>\n",
       "  </thead>\n",
       "  <tbody>\n",
       "    <tr>\n",
       "      <th>152</th>\n",
       "      <td>425</td>\n",
       "      <td>13.11</td>\n",
       "      <td>1.90</td>\n",
       "      <td>2.75</td>\n",
       "      <td>25.5</td>\n",
       "      <td>116</td>\n",
       "      <td>2.20</td>\n",
       "      <td>1.28</td>\n",
       "      <td>0.26</td>\n",
       "      <td>1.56</td>\n",
       "      <td>7.10</td>\n",
       "      <td>0.61</td>\n",
       "      <td>1.33</td>\n",
       "      <td>3</td>\n",
       "    </tr>\n",
       "    <tr>\n",
       "      <th>57</th>\n",
       "      <td>1270</td>\n",
       "      <td>13.29</td>\n",
       "      <td>1.97</td>\n",
       "      <td>2.68</td>\n",
       "      <td>16.8</td>\n",
       "      <td>102</td>\n",
       "      <td>3.00</td>\n",
       "      <td>3.23</td>\n",
       "      <td>0.31</td>\n",
       "      <td>1.66</td>\n",
       "      <td>6.00</td>\n",
       "      <td>1.07</td>\n",
       "      <td>2.84</td>\n",
       "      <td>1</td>\n",
       "    </tr>\n",
       "    <tr>\n",
       "      <th>91</th>\n",
       "      <td>450</td>\n",
       "      <td>12.00</td>\n",
       "      <td>1.51</td>\n",
       "      <td>2.42</td>\n",
       "      <td>22.0</td>\n",
       "      <td>86</td>\n",
       "      <td>1.45</td>\n",
       "      <td>1.25</td>\n",
       "      <td>0.50</td>\n",
       "      <td>1.63</td>\n",
       "      <td>3.60</td>\n",
       "      <td>1.05</td>\n",
       "      <td>2.65</td>\n",
       "      <td>2</td>\n",
       "    </tr>\n",
       "    <tr>\n",
       "      <th>109</th>\n",
       "      <td>680</td>\n",
       "      <td>11.61</td>\n",
       "      <td>1.35</td>\n",
       "      <td>2.70</td>\n",
       "      <td>20.0</td>\n",
       "      <td>94</td>\n",
       "      <td>2.74</td>\n",
       "      <td>2.92</td>\n",
       "      <td>0.29</td>\n",
       "      <td>2.49</td>\n",
       "      <td>2.65</td>\n",
       "      <td>0.96</td>\n",
       "      <td>3.26</td>\n",
       "      <td>2</td>\n",
       "    </tr>\n",
       "    <tr>\n",
       "      <th>35</th>\n",
       "      <td>920</td>\n",
       "      <td>13.48</td>\n",
       "      <td>1.81</td>\n",
       "      <td>2.41</td>\n",
       "      <td>20.5</td>\n",
       "      <td>100</td>\n",
       "      <td>2.70</td>\n",
       "      <td>2.98</td>\n",
       "      <td>0.26</td>\n",
       "      <td>1.86</td>\n",
       "      <td>5.10</td>\n",
       "      <td>1.04</td>\n",
       "      <td>3.47</td>\n",
       "      <td>1</td>\n",
       "    </tr>\n",
       "  </tbody>\n",
       "</table>\n",
       "</div>"
      ],
      "text/plain": [
       "     Proline  Alcohol   Malic acid   Ash  Alcalinity of ash   Magnesium   \\\n",
       "152      425     13.11        1.90  2.75                25.5         116   \n",
       "57      1270     13.29        1.97  2.68                16.8         102   \n",
       "91       450     12.00        1.51  2.42                22.0          86   \n",
       "109      680     11.61        1.35  2.70                20.0          94   \n",
       "35       920     13.48        1.81  2.41                20.5         100   \n",
       "\n",
       "     Total phenols   Flavanoids   Nonflavanoid phenols  Proanthocyanins  \\\n",
       "152            2.20         1.28                  0.26             1.56   \n",
       "57             3.00         3.23                  0.31             1.66   \n",
       "91             1.45         1.25                  0.50             1.63   \n",
       "109            2.74         2.92                  0.29             2.49   \n",
       "35             2.70         2.98                  0.26             1.86   \n",
       "\n",
       "     Color intensity    Hue  OD280/OD315 of diluted wine  label  \n",
       "152              7.10  0.61                         1.33      3  \n",
       "57               6.00  1.07                         2.84      1  \n",
       "91               3.60  1.05                         2.65      2  \n",
       "109              2.65  0.96                         3.26      2  \n",
       "35               5.10  1.04                         3.47      1  "
      ]
     },
     "execution_count": 18,
     "metadata": {},
     "output_type": "execute_result"
    }
   ],
   "source": [
    "columnsTitles=[\"Proline\",'Alcohol ','Malic acid','Ash',\n",
    "              'Alcalinity of ash ','Magnesium ','Total phenols ',\n",
    "              'Flavanoids ','Nonflavanoid phenols','Proanthocyanins',\n",
    "              'Color intensity ','Hue','OD280/OD315 of diluted wine',\"label\"]\n",
    "\n",
    "df=df.reindex(columns=columnsTitles)\n",
    "df=df.reindex(np.random.permutation(df.index))\n",
    "df.head()"
   ]
  },
  {
   "cell_type": "code",
   "execution_count": 20,
   "metadata": {},
   "outputs": [],
   "source": [
    "def unique_vals(rows, col):\n",
    "    \"\"\"Find the unique values for a column in a dataset.\"\"\"\n",
    "    return set([row[col] for row in rows])"
   ]
  },
  {
   "cell_type": "code",
   "execution_count": 24,
   "metadata": {},
   "outputs": [
    {
     "data": {
      "text/plain": [
       "{'D', 'a', 'l', 'o', 'r', 's', 'u'}"
      ]
     },
     "execution_count": 24,
     "metadata": {},
     "output_type": "execute_result"
    }
   ],
   "source": [
    "#######\n",
    "# Demo:\n",
    "unique_vals(df,1)\n",
    "# unique_vals(df, 1)\n",
    "#######"
   ]
  },
  {
   "cell_type": "code",
   "execution_count": 25,
   "metadata": {},
   "outputs": [],
   "source": [
    "def class_counts(rows):\n",
    "    \"\"\"Counts the number of each type of example in a dataset.\"\"\"\n",
    "    counts = {}  # a dictionary of label -> count.\n",
    "    for row in rows:\n",
    "        # in our dataset format, the label is always the last column\n",
    "        label = row[-1]\n",
    "        if label not in counts:\n",
    "            counts[label] = 0\n",
    "        counts[label] += 1\n",
    "    return counts"
   ]
  },
  {
   "cell_type": "code",
   "execution_count": 27,
   "metadata": {},
   "outputs": [
    {
     "data": {
      "text/plain": [
       "{'e': 3, ' ': 6, 'd': 1, 'h': 1, 's': 2, 'l': 1}"
      ]
     },
     "execution_count": 27,
     "metadata": {},
     "output_type": "execute_result"
    }
   ],
   "source": [
    "#######\n",
    "\n",
    "class_counts(df)\n",
    "#######"
   ]
  },
  {
   "cell_type": "code",
   "execution_count": 51,
   "metadata": {},
   "outputs": [],
   "source": [
    "def is_numeric(value):\n",
    "    \"\"\"Test if a value is numeric.\"\"\"\n",
    "    return isinstance(value, int) or isinstance(value, float)"
   ]
  },
  {
   "cell_type": "code",
   "execution_count": 52,
   "metadata": {},
   "outputs": [],
   "source": [
    "class Question:\n",
    "    \"\"\"A Question is used to partition a dataset.\n",
    "\n",
    "    This class just records a 'column number' (e.g., 0 for Color) and a\n",
    "    'column value' (e.g., Green). The 'match' method is used to compare\n",
    "    the feature value in an example to the feature value stored in the\n",
    "    question. See the demo below.\n",
    "    \"\"\"\n",
    "\n",
    "    def __init__(self, column, value):\n",
    "        self.column = column\n",
    "        self.value = value\n",
    "\n",
    "    def match(self, example):\n",
    "        # Compare the feature value in an example to the\n",
    "        # feature value in this question.\n",
    "        val = example[self.column]\n",
    "        if is_numeric(val):\n",
    "            return val >= self.value\n",
    "        else:\n",
    "            return val == self.value\n",
    "\n",
    "    def __repr__(self):\n",
    "        # This is just a helper method to print\n",
    "        # the question in a readable format.\n",
    "        condition = \"==\"\n",
    "        if is_numeric(self.value):\n",
    "            condition = \">=\"\n",
    "        return \"Is %s %s %s?\" % (\n",
    "            header[self.column], condition, str(self.value))"
   ]
  },
  {
   "cell_type": "code",
   "execution_count": 53,
   "metadata": {},
   "outputs": [
    {
     "data": {
      "text/plain": [
       "Is Time == offpeak?"
      ]
     },
     "execution_count": 53,
     "metadata": {},
     "output_type": "execute_result"
    }
   ],
   "source": [
    "# How about one for a categorical attribute\n",
    "q = Question(0, 'offpeak')\n",
    "q"
   ]
  },
  {
   "cell_type": "code",
   "execution_count": 54,
   "metadata": {},
   "outputs": [
    {
     "data": {
      "text/plain": [
       "False"
      ]
     },
     "execution_count": 54,
     "metadata": {},
     "output_type": "execute_result"
    }
   ],
   "source": [
    "# Let's pick an example from the training set...\n",
    "example = traffic_data[0]\n",
    "# ... and see if it matches the question\n",
    "q.match(example) # this will be true, since the first example is Green.\n",
    "#######"
   ]
  },
  {
   "cell_type": "code",
   "execution_count": 55,
   "metadata": {},
   "outputs": [],
   "source": [
    "def partition(rows, question):\n",
    "    \"\"\"Partitions a dataset.\n",
    "\n",
    "    For each row in the dataset, check if it matches the question. If\n",
    "    so, add it to 'true rows', otherwise, add it to 'false rows'.\n",
    "    \"\"\"\n",
    "    true_rows, false_rows = [], []\n",
    "    for row in rows:\n",
    "        if question.match(row):\n",
    "            true_rows.append(row)\n",
    "        else:\n",
    "            false_rows.append(row)\n",
    "    return true_rows, false_rows"
   ]
  },
  {
   "cell_type": "code",
   "execution_count": 56,
   "metadata": {},
   "outputs": [
    {
     "data": {
      "text/plain": [
       "[['offpeak', 'bad', 'Yes', 'No', 'NP'],\n",
       " ['offpeak', 'bad', 'Yes', 'No', 'NP'],\n",
       " ['offpeak', 'bad', 'Yes', 'Yes', 'NP'],\n",
       " ['offpeak', 'bad', 'No', 'No', 'NP'],\n",
       " ['offpeak', 'bad', 'Yes', 'No', 'NP'],\n",
       " ['offpeak', 'bad', 'Yes', 'No', 'NP'],\n",
       " ['offpeak', 'bad', 'Yes', 'No', 'NP'],\n",
       " ['offpeak', 'bad', 'Yes', 'No', 'NP']]"
      ]
     },
     "execution_count": 56,
     "metadata": {},
     "output_type": "execute_result"
    }
   ],
   "source": [
    "#######\n",
    "# Demo:\n",
    "# Let's partition the training data based on whether rows are Red.\n",
    "true_rows, false_rows = partition(traffic_data, Question(0, 'offpeak'))\n",
    "# This will contain all the 'Red' rows.\n",
    "true_rows"
   ]
  },
  {
   "cell_type": "code",
   "execution_count": 57,
   "metadata": {},
   "outputs": [
    {
     "data": {
      "text/plain": [
       "[['peak', 'good', 'Yes', 'No', 'D'],\n",
       " ['peak', 'bad', 'Yes', 'No', 'D'],\n",
       " ['peak', 'good', 'No', 'No', 'B'],\n",
       " ['offPeak', 'good', 'Yes', 'Yes', 'NP'],\n",
       " ['peak', 'good', 'No', 'No', 'C'],\n",
       " ['peak', 'bad', 'Yes', 'Yes', 'C'],\n",
       " ['peak', 'good', 'Yes', 'No', 'D'],\n",
       " ['offPeak', 'good', 'No', 'Yes', 'NP'],\n",
       " ['peak', 'good', 'Yes', 'Yes', 'C'],\n",
       " ['peak', 'bad', 'No', 'No', 'B'],\n",
       " ['peak', 'good', 'Yes', 'No', 'B'],\n",
       " ['offPeak', 'good', 'No', 'No', 'NP'],\n",
       " ['peak', 'good', 'Yes', 'No', 'D'],\n",
       " ['peak', 'bad', 'No', 'No', 'D'],\n",
       " ['peak', 'good', 'Yes', 'Yes', 'A'],\n",
       " ['offPeak', 'good', 'Yes', 'No', 'NP'],\n",
       " ['peak', 'good', 'Yes', 'No', 'B'],\n",
       " ['peak', 'good', 'Yes', 'Yes', 'D'],\n",
       " ['peak', 'good', 'Yes', 'No', 'D'],\n",
       " ['offPeak', 'good', 'No', 'No', 'NP'],\n",
       " ['peak', 'good', 'Yes', 'No', 'B'],\n",
       " ['peak', 'bad', 'Yes', 'No', 'D'],\n",
       " ['peak', 'good', 'No', 'No', 'A'],\n",
       " ['offPeak', 'good', 'Yes', 'Yes', 'NP'],\n",
       " ['peak', 'good', 'No', 'No', 'B'],\n",
       " ['peak', 'good', 'Yes', 'Yes', 'D'],\n",
       " ['peak', 'good', 'Yes', 'No', 'A'],\n",
       " ['offPeak', 'good', 'No', 'No', 'NP'],\n",
       " ['peak', 'good', 'Yes', 'Yes', 'D'],\n",
       " ['peak', 'bad', 'No', 'No', 'A'],\n",
       " ['peak', 'good', 'Yes', 'Yes', 'D'],\n",
       " ['offPeak', 'good', 'No', 'No', 'NP']]"
      ]
     },
     "execution_count": 57,
     "metadata": {},
     "output_type": "execute_result"
    }
   ],
   "source": [
    "# This will contain everything else.\n",
    "false_rows\n",
    "#######"
   ]
  },
  {
   "cell_type": "code",
   "execution_count": 58,
   "metadata": {},
   "outputs": [],
   "source": [
    "def gini(rows):\n",
    "    \"\"\"Calculate the Gini Impurity for a list of rows.\n",
    "\n",
    "    There are a few different ways to do this, I thought this one was\n",
    "    the most concise. See:\n",
    "    \"\"\"\n",
    "    counts = class_counts(rows)\n",
    "    impurity = 1\n",
    "    for lbl in counts:\n",
    "        prob_of_lbl = counts[lbl] / float(len(rows))\n",
    "        impurity -= prob_of_lbl**2\n",
    "    return impurity"
   ]
  },
  {
   "cell_type": "code",
   "execution_count": 59,
   "metadata": {},
   "outputs": [
    {
     "data": {
      "text/plain": [
       "0.0"
      ]
     },
     "execution_count": 59,
     "metadata": {},
     "output_type": "execute_result"
    }
   ],
   "source": [
    "#######\n",
    "# Demo:\n",
    "# Let's look at some example to understand how Gini Impurity works.\n",
    "#\n",
    "# First, we'll look at a dataset with no mixing.\n",
    "no_mixing = [['D'],\n",
    "              ['D']]\n",
    "# this will return 0\n",
    "gini(no_mixing)"
   ]
  },
  {
   "cell_type": "code",
   "execution_count": 60,
   "metadata": {},
   "outputs": [
    {
     "data": {
      "text/plain": [
       "0.6666666666666665"
      ]
     },
     "execution_count": 60,
     "metadata": {},
     "output_type": "execute_result"
    }
   ],
   "source": [
    "# Now, we'll look at dataset with a 50:50 apples:oranges ratio\n",
    "some_mixing = [['D'],\n",
    "               ['C'],\n",
    "               ['NP']]\n",
    "# this will return 0.5 - meaning, there's a 50% chance of misclassifying\n",
    "# a random example we draw from the dataset.\n",
    "gini(some_mixing)"
   ]
  },
  {
   "cell_type": "code",
   "execution_count": 61,
   "metadata": {},
   "outputs": [],
   "source": [
    "def info_gain(left, right, current_uncertainty):\n",
    "    \"\"\"Information Gain.\n",
    "\n",
    "    The uncertainty of the starting node, minus the weighted impurity of\n",
    "    two child nodes.\n",
    "    \"\"\"\n",
    "    p = float(len(left)) / (len(left) + len(right))\n",
    "    return current_uncertainty - p * gini(left) - (1 - p) * gini(right)"
   ]
  },
  {
   "cell_type": "code",
   "execution_count": 62,
   "metadata": {},
   "outputs": [
    {
     "data": {
      "text/plain": [
       "0.72625"
      ]
     },
     "execution_count": 62,
     "metadata": {},
     "output_type": "execute_result"
    }
   ],
   "source": [
    "#######\n",
    "# Demo:\n",
    "# Calculate the uncertainy of our training data.\n",
    "current_uncertainty = gini(traffic_data)\n",
    "current_uncertainty"
   ]
  },
  {
   "cell_type": "code",
   "execution_count": 63,
   "metadata": {},
   "outputs": [
    {
     "data": {
      "text/plain": [
       "0.3158333333333333"
      ]
     },
     "execution_count": 63,
     "metadata": {},
     "output_type": "execute_result"
    }
   ],
   "source": [
    "# How much information do we gain by partioning on 'Peak'?\n",
    "true_rows, false_rows = partition(traffic_data, Question(0, 'peak'))\n",
    "info_gain(true_rows, false_rows, current_uncertainty)"
   ]
  },
  {
   "cell_type": "code",
   "execution_count": 64,
   "metadata": {},
   "outputs": [
    {
     "data": {
      "text/plain": [
       "0.11843749999999986"
      ]
     },
     "execution_count": 64,
     "metadata": {},
     "output_type": "execute_result"
    }
   ],
   "source": [
    "# What about if we partioned on 'Red' instead?\n",
    "true_rows, false_rows = partition(traffic_data, Question(0,'offPeak'))\n",
    "info_gain(true_rows, false_rows, current_uncertainty)"
   ]
  },
  {
   "cell_type": "raw",
   "metadata": {},
   "source": [
    "# It looks like we learned more using 'Red' (0.37), than 'Green' (0.14).\n",
    "# Why? Look at the different splits that result, and see which one\n",
    "# looks more 'unmixed' to you.\n",
    "true_rows, false_rows = partition(training_data, Question(0,'Red'))\n",
    "\n",
    "# Here, the true_rows contain only 'Grapes'.\n",
    "true_rows"
   ]
  },
  {
   "cell_type": "code",
   "execution_count": 65,
   "metadata": {},
   "outputs": [
    {
     "data": {
      "text/plain": [
       "[['peak', 'good', 'Yes', 'No', 'D'],\n",
       " ['peak', 'bad', 'Yes', 'No', 'D'],\n",
       " ['peak', 'good', 'No', 'No', 'B'],\n",
       " ['offpeak', 'bad', 'Yes', 'No', 'NP'],\n",
       " ['peak', 'good', 'No', 'No', 'C'],\n",
       " ['peak', 'bad', 'Yes', 'Yes', 'C'],\n",
       " ['peak', 'good', 'Yes', 'No', 'D'],\n",
       " ['offpeak', 'bad', 'Yes', 'No', 'NP'],\n",
       " ['peak', 'good', 'Yes', 'Yes', 'C'],\n",
       " ['peak', 'bad', 'No', 'No', 'B'],\n",
       " ['peak', 'good', 'Yes', 'No', 'B'],\n",
       " ['offpeak', 'bad', 'Yes', 'Yes', 'NP'],\n",
       " ['peak', 'good', 'Yes', 'No', 'D'],\n",
       " ['peak', 'bad', 'No', 'No', 'D'],\n",
       " ['peak', 'good', 'Yes', 'Yes', 'A'],\n",
       " ['offpeak', 'bad', 'No', 'No', 'NP'],\n",
       " ['peak', 'good', 'Yes', 'No', 'B'],\n",
       " ['peak', 'good', 'Yes', 'Yes', 'D'],\n",
       " ['peak', 'good', 'Yes', 'No', 'D'],\n",
       " ['offpeak', 'bad', 'Yes', 'No', 'NP'],\n",
       " ['peak', 'good', 'Yes', 'No', 'B'],\n",
       " ['peak', 'bad', 'Yes', 'No', 'D'],\n",
       " ['peak', 'good', 'No', 'No', 'A'],\n",
       " ['offpeak', 'bad', 'Yes', 'No', 'NP'],\n",
       " ['peak', 'good', 'No', 'No', 'B'],\n",
       " ['peak', 'good', 'Yes', 'Yes', 'D'],\n",
       " ['peak', 'good', 'Yes', 'No', 'A'],\n",
       " ['offpeak', 'bad', 'Yes', 'No', 'NP'],\n",
       " ['peak', 'good', 'Yes', 'Yes', 'D'],\n",
       " ['peak', 'bad', 'No', 'No', 'A'],\n",
       " ['peak', 'good', 'Yes', 'Yes', 'D'],\n",
       " ['offpeak', 'bad', 'Yes', 'No', 'NP']]"
      ]
     },
     "execution_count": 65,
     "metadata": {},
     "output_type": "execute_result"
    }
   ],
   "source": [
    "# And the false rows contain two types of fruit. Not too bad.\n",
    "false_rows"
   ]
  },
  {
   "cell_type": "code",
   "execution_count": 66,
   "metadata": {},
   "outputs": [
    {
     "data": {
      "text/plain": [
       "[['peak', 'good', 'Yes', 'No', 'D'],\n",
       " ['peak', 'bad', 'Yes', 'No', 'D'],\n",
       " ['peak', 'good', 'No', 'No', 'B'],\n",
       " ['peak', 'good', 'No', 'No', 'C'],\n",
       " ['peak', 'bad', 'Yes', 'Yes', 'C'],\n",
       " ['peak', 'good', 'Yes', 'No', 'D'],\n",
       " ['peak', 'good', 'Yes', 'Yes', 'C'],\n",
       " ['peak', 'bad', 'No', 'No', 'B'],\n",
       " ['peak', 'good', 'Yes', 'No', 'B'],\n",
       " ['peak', 'good', 'Yes', 'No', 'D'],\n",
       " ['peak', 'bad', 'No', 'No', 'D'],\n",
       " ['peak', 'good', 'Yes', 'Yes', 'A'],\n",
       " ['peak', 'good', 'Yes', 'No', 'B'],\n",
       " ['peak', 'good', 'Yes', 'Yes', 'D'],\n",
       " ['peak', 'good', 'Yes', 'No', 'D'],\n",
       " ['peak', 'good', 'Yes', 'No', 'B'],\n",
       " ['peak', 'bad', 'Yes', 'No', 'D'],\n",
       " ['peak', 'good', 'No', 'No', 'A'],\n",
       " ['peak', 'good', 'No', 'No', 'B'],\n",
       " ['peak', 'good', 'Yes', 'Yes', 'D'],\n",
       " ['peak', 'good', 'Yes', 'No', 'A'],\n",
       " ['peak', 'good', 'Yes', 'Yes', 'D'],\n",
       " ['peak', 'bad', 'No', 'No', 'A'],\n",
       " ['peak', 'good', 'Yes', 'Yes', 'D']]"
      ]
     },
     "execution_count": 66,
     "metadata": {},
     "output_type": "execute_result"
    }
   ],
   "source": [
    "\n",
    "true_rows, false_rows = partition(traffic_data, Question(0,'peak'))\n",
    "\n",
    "# We've isolated one apple in the true rows.\n",
    "true_rows"
   ]
  },
  {
   "cell_type": "code",
   "execution_count": 67,
   "metadata": {},
   "outputs": [
    {
     "data": {
      "text/plain": [
       "[['offPeak', 'good', 'Yes', 'Yes', 'NP'],\n",
       " ['offpeak', 'bad', 'Yes', 'No', 'NP'],\n",
       " ['offPeak', 'good', 'No', 'Yes', 'NP'],\n",
       " ['offpeak', 'bad', 'Yes', 'No', 'NP'],\n",
       " ['offPeak', 'good', 'No', 'No', 'NP'],\n",
       " ['offpeak', 'bad', 'Yes', 'Yes', 'NP'],\n",
       " ['offPeak', 'good', 'Yes', 'No', 'NP'],\n",
       " ['offpeak', 'bad', 'No', 'No', 'NP'],\n",
       " ['offPeak', 'good', 'No', 'No', 'NP'],\n",
       " ['offpeak', 'bad', 'Yes', 'No', 'NP'],\n",
       " ['offPeak', 'good', 'Yes', 'Yes', 'NP'],\n",
       " ['offpeak', 'bad', 'Yes', 'No', 'NP'],\n",
       " ['offPeak', 'good', 'No', 'No', 'NP'],\n",
       " ['offpeak', 'bad', 'Yes', 'No', 'NP'],\n",
       " ['offPeak', 'good', 'No', 'No', 'NP'],\n",
       " ['offpeak', 'bad', 'Yes', 'No', 'NP']]"
      ]
     },
     "execution_count": 67,
     "metadata": {},
     "output_type": "execute_result"
    }
   ],
   "source": [
    "# But, the false-rows are badly mixed up.\n",
    "false_rows\n",
    "#######"
   ]
  },
  {
   "cell_type": "code",
   "execution_count": 68,
   "metadata": {},
   "outputs": [],
   "source": [
    "def find_best_split(rows):\n",
    "    \"\"\"Find the best question to ask by iterating over every feature / value\n",
    "    and calculating the information gain.\"\"\"\n",
    "    best_gain = 0  # keep track of the best information gain\n",
    "    best_question = None  # keep train of the feature / value that produced it\n",
    "    current_uncertainty = gini(rows)\n",
    "    n_features = len(rows[0]) - 1  # number of columns\n",
    "\n",
    "    for col in range(n_features):  # for each feature\n",
    "\n",
    "        values = set([row[col] for row in rows])  # unique values in the column\n",
    "\n",
    "        for val in values:  # for each value\n",
    "\n",
    "            question = Question(col, val)\n",
    "\n",
    "            # try splitting the dataset\n",
    "            true_rows, false_rows = partition(rows, question)\n",
    "\n",
    "            # Skip this split if it doesn't divide the\n",
    "            # dataset.\n",
    "            if len(true_rows) == 0 or len(false_rows) == 0:\n",
    "                continue\n",
    "\n",
    "            # Calculate the information gain from this split\n",
    "            gain = info_gain(true_rows, false_rows, current_uncertainty)\n",
    "\n",
    "            # You actually can use '>' instead of '>=' here\n",
    "            # but I wanted the tree to look a certain way for our\n",
    "            # toy dataset.\n",
    "            if gain >= best_gain:\n",
    "                best_gain, best_question = gain, question\n",
    "\n",
    "    return best_gain, best_question"
   ]
  },
  {
   "cell_type": "code",
   "execution_count": 69,
   "metadata": {},
   "outputs": [
    {
     "data": {
      "text/plain": [
       "Is Time == peak?"
      ]
     },
     "execution_count": 69,
     "metadata": {},
     "output_type": "execute_result"
    }
   ],
   "source": [
    "#######\n",
    "# Find the best question to ask first for our toy dataset.\n",
    "best_gain, best_question = find_best_split(traffic_data)\n",
    "best_question\n",
    "#######"
   ]
  },
  {
   "cell_type": "code",
   "execution_count": 70,
   "metadata": {},
   "outputs": [],
   "source": [
    "class Leaf:\n",
    "    \"\"\"A Leaf node classifies data.\n",
    "    it appears in the rows from the training data that reach this leaf.\n",
    "    \"\"\"\n",
    "\n",
    "    def __init__(self, rows):\n",
    "        self.predictions = class_counts(rows)"
   ]
  },
  {
   "cell_type": "code",
   "execution_count": 71,
   "metadata": {},
   "outputs": [],
   "source": [
    "class Decision_Node:\n",
    "    \"\"\"A Decision Node asks a question.\n",
    "\n",
    "    This holds a reference to the question, and to the two child nodes.\n",
    "    \"\"\"\n",
    "\n",
    "    def __init__(self,\n",
    "                 question,\n",
    "                 true_branch,\n",
    "                 false_branch):\n",
    "        self.question = question\n",
    "        self.true_branch = true_branch\n",
    "        self.false_branch = false_branch"
   ]
  },
  {
   "cell_type": "code",
   "execution_count": 72,
   "metadata": {},
   "outputs": [],
   "source": [
    "def build_tree(rows):\n",
    "    \"\"\"Builds the tree.\n",
    "\n",
    "    Rules of recursion: 1) Believe that it works. 2) Start by checking\n",
    "    for the base case (no further information gain). 3) Prepare for\n",
    "    giant stack traces.\n",
    "    \"\"\"\n",
    "\n",
    "    # Try partitioing the dataset on each of the unique attribute,\n",
    "    # calculate the information gain,\n",
    "    # and return the question that produces the highest gain.\n",
    "    gain, question = find_best_split(rows)\n",
    "\n",
    "    # Base case: no further info gain\n",
    "    # Since we can ask no further questions,\n",
    "    # we'll return a leaf.\n",
    "    if gain == 0:\n",
    "        return Leaf(rows)\n",
    "\n",
    "    # If we reach here, we have found a useful feature / value\n",
    "    # to partition on.\n",
    "    true_rows, false_rows = partition(rows, question)\n",
    "\n",
    "    # Recursively build the true branch.\n",
    "    true_branch = build_tree(true_rows)\n",
    "\n",
    "    # Recursively build the false branch.\n",
    "    false_branch = build_tree(false_rows)\n",
    "\n",
    "    # Return a Question node.\n",
    "    # This records the best feature / value to ask at this point,\n",
    "    # as well as the branches to follow\n",
    "    # dependingo on the answer.\n",
    "    return Decision_Node(question, true_branch, false_branch)"
   ]
  },
  {
   "cell_type": "code",
   "execution_count": 73,
   "metadata": {},
   "outputs": [],
   "source": [
    "def print_tree(node, spacing=\"\"):\n",
    "    \"\"\"World's most elegant tree printing function.\"\"\"\n",
    "\n",
    "    # Base case: we've reached a leaf\n",
    "    if isinstance(node, Leaf):\n",
    "        print (spacing + \"Predict\", node.predictions)\n",
    "        return\n",
    "\n",
    "    # Print the question at this node\n",
    "    print (spacing + str(node.question))\n",
    "\n",
    "    # Call this function recursively on the true branch\n",
    "    print (spacing + '--> True:')\n",
    "    print_tree(node.true_branch, spacing + \"  \")\n",
    "\n",
    "    # Call this function recursively on the false branch\n",
    "    print (spacing + '--> False:')\n",
    "    print_tree(node.false_branch, spacing + \"  \")"
   ]
  },
  {
   "cell_type": "code",
   "execution_count": 74,
   "metadata": {},
   "outputs": [],
   "source": [
    "my_tree = build_tree(traffic_data)"
   ]
  },
  {
   "cell_type": "code",
   "execution_count": 75,
   "metadata": {},
   "outputs": [
    {
     "name": "stdout",
     "output_type": "stream",
     "text": [
      "Is Time == peak?\n",
      "--> True:\n",
      "  Is Accident == No?\n",
      "  --> True:\n",
      "    Is weather == bad?\n",
      "    --> True:\n",
      "      Predict {'B': 1, 'D': 1, 'A': 1}\n",
      "    --> False:\n",
      "      Predict {'B': 2, 'C': 1, 'A': 1}\n",
      "  --> False:\n",
      "    Is Road work == Yes?\n",
      "    --> True:\n",
      "      Is weather == good?\n",
      "      --> True:\n",
      "        Predict {'C': 1, 'A': 1, 'D': 4}\n",
      "      --> False:\n",
      "        Predict {'C': 1}\n",
      "    --> False:\n",
      "      Is weather == bad?\n",
      "      --> True:\n",
      "        Predict {'D': 2}\n",
      "      --> False:\n",
      "        Predict {'D': 4, 'B': 3, 'A': 1}\n",
      "--> False:\n",
      "  Predict {'NP': 16}\n"
     ]
    }
   ],
   "source": [
    "print_tree(my_tree)"
   ]
  },
  {
   "cell_type": "code",
   "execution_count": 76,
   "metadata": {},
   "outputs": [],
   "source": [
    "def classify(row, node):\n",
    "    \"\"\"See the 'rules of recursion' above.\"\"\"\n",
    "\n",
    "    # Base case: we've reached a leaf\n",
    "    if isinstance(node, Leaf):\n",
    "        return node.predictions\n",
    "\n",
    "    # Decide whether to follow the true-branch or the false-branch.\n",
    "    # Compare the feature / value stored in the node,\n",
    "    # to the example we're considering.\n",
    "    if node.question.match(row):\n",
    "        return classify(row, node.true_branch)\n",
    "    else:\n",
    "        return classify(row, node.false_branch)"
   ]
  },
  {
   "cell_type": "code",
   "execution_count": 77,
   "metadata": {},
   "outputs": [
    {
     "data": {
      "text/plain": [
       "{'D': 4, 'B': 3, 'A': 1}"
      ]
     },
     "execution_count": 77,
     "metadata": {},
     "output_type": "execute_result"
    }
   ],
   "source": [
    "#######\n",
    "# The tree predicts the 1st row of our\n",
    "classify(traffic_data[0], my_tree)\n",
    "#######"
   ]
  },
  {
   "cell_type": "code",
   "execution_count": 78,
   "metadata": {},
   "outputs": [],
   "source": [
    "def print_leaf(counts):\n",
    "    \"\"\"A nicer way to print the predictions at a leaf.\"\"\"\n",
    "    total = sum(counts.values()) * 1.0\n",
    "    probs = {}\n",
    "    for lbl in counts.keys():\n",
    "        probs[lbl] = str(int(counts[lbl] / total * 100)) + \"%\"\n",
    "    return probs"
   ]
  },
  {
   "cell_type": "code",
   "execution_count": 79,
   "metadata": {},
   "outputs": [
    {
     "data": {
      "text/plain": [
       "{'D': '50%', 'B': '37%', 'A': '12%'}"
      ]
     },
     "execution_count": 79,
     "metadata": {},
     "output_type": "execute_result"
    }
   ],
   "source": [
    "# Printing that a bit nicer\n",
    "print_leaf(classify(traffic_data[0], my_tree))\n",
    "#######"
   ]
  },
  {
   "cell_type": "code",
   "execution_count": 80,
   "metadata": {},
   "outputs": [
    {
     "data": {
      "text/plain": [
       "{'D': '100%'}"
      ]
     },
     "execution_count": 80,
     "metadata": {},
     "output_type": "execute_result"
    }
   ],
   "source": [
    "# On the second example, the confidence is lower\n",
    "print_leaf(classify(traffic_data[1], my_tree))\n",
    "#######"
   ]
  },
  {
   "cell_type": "code",
   "execution_count": 81,
   "metadata": {},
   "outputs": [],
   "source": [
    "# Evaluate\n",
    "testing_data = [\n",
    "    ['peak',    'good', 'yes', 'No' , 'D'],\n",
    "    ['peak',    'good',  'No', 'No', 'D'],\n",
    "    ['peak',    'good', 'No', 'No', 'B'],\n",
    "    ['offpeak', '', '', '', 'NP'],\n",
    "    ['offpeak', 'bad',  'Yes', 'No', 'NP'],\n",
    "]"
   ]
  },
  {
   "cell_type": "code",
   "execution_count": 82,
   "metadata": {},
   "outputs": [
    {
     "name": "stdout",
     "output_type": "stream",
     "text": [
      "Actual: D. Predicted: {'D': '50%', 'B': '37%', 'A': '12%'}\n",
      "Actual: D. Predicted: {'B': '50%', 'C': '25%', 'A': '25%'}\n",
      "Actual: B. Predicted: {'B': '50%', 'C': '25%', 'A': '25%'}\n",
      "Actual: NP. Predicted: {'NP': '100%'}\n",
      "Actual: NP. Predicted: {'NP': '100%'}\n"
     ]
    }
   ],
   "source": [
    "for row in testing_data:\n",
    "    print (\"Actual: %s. Predicted: %s\" %\n",
    "           (row[-1], print_leaf(classify(row, my_tree))))"
   ]
  }
 ],
 "metadata": {
  "kernelspec": {
   "display_name": "Python 3",
   "language": "python",
   "name": "python3"
  },
  "language_info": {
   "codemirror_mode": {
    "name": "ipython",
    "version": 3
   },
   "file_extension": ".py",
   "mimetype": "text/x-python",
   "name": "python",
   "nbconvert_exporter": "python",
   "pygments_lexer": "ipython3",
   "version": "3.6.5"
  }
 },
 "nbformat": 4,
 "nbformat_minor": 2
}
